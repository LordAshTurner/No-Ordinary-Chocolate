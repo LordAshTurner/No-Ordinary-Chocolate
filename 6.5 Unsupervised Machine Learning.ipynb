{
 "cells": [
  {
   "cell_type": "markdown",
   "id": "3b692809",
   "metadata": {},
   "source": [
    "## Table of contents:\n",
    "\n",
    "### 1 Importing Data and libraries\n",
    "### 2 Clean Data\n",
    "### 3 Elbow Technique\n",
    "### 4 k-means Algorithm\n",
    "    Scatterplots\n",
    "    Conclusions\n",
    "### 5 Descriptive statistics\n",
    "    Conclusions\n",
    "    What could these results be useful for?"
   ]
  },
  {
   "cell_type": "markdown",
   "id": "63b19b29",
   "metadata": {},
   "source": [
    "# 6.5 Unsupervised Machine learning"
   ]
  },
  {
   "cell_type": "code",
   "execution_count": 1,
   "id": "50a9cec0",
   "metadata": {},
   "outputs": [],
   "source": [
    "# 1 Import Data and libraries\n",
    "import pandas as pd\n",
    "import numpy as np\n",
    "import seaborn as sns\n",
    "import matplotlib\n",
    "import matplotlib.pyplot as plt\n",
    "import os\n",
    "import sklearn\n",
    "from sklearn.cluster import KMeans # Here is where you import the k-means algorithm from scikit-learn\n",
    "import pylab as pl # PyLab is a convenience module that bulk imports matplotlib"
   ]
  },
  {
   "cell_type": "code",
   "execution_count": 2,
   "id": "41cb4434",
   "metadata": {},
   "outputs": [],
   "source": [
    "%matplotlib inline"
   ]
  },
  {
   "cell_type": "code",
   "execution_count": 3,
   "id": "0daf3a5c",
   "metadata": {},
   "outputs": [],
   "source": [
    "path = r'C:\\Users\\turne\\Chocolate Rating'"
   ]
  },
  {
   "cell_type": "code",
   "execution_count": 4,
   "id": "d63dae1a",
   "metadata": {},
   "outputs": [],
   "source": [
    "# Import data\n",
    "df = pd.read_csv(os.path.join(path, 'Clean Data','Chocolate_clean.csv'), index_col = False)"
   ]
  },
  {
   "cell_type": "code",
   "execution_count": 5,
   "id": "628310f3",
   "metadata": {},
   "outputs": [
    {
     "data": {
      "text/plain": [
       "Unnamed: 0          0\n",
       "Company Name        0\n",
       "Bar Name            0\n",
       "REF                 0\n",
       "Review Date         0\n",
       "Cacao Percent       0\n",
       "Company Location    0\n",
       "Rating              0\n",
       "Bean Type           0\n",
       "Bean Origin         0\n",
       "dtype: int64"
      ]
     },
     "execution_count": 5,
     "metadata": {},
     "output_type": "execute_result"
    }
   ],
   "source": [
    "## 2 Clean data\n",
    "df.isna().sum()"
   ]
  },
  {
   "cell_type": "code",
   "execution_count": 6,
   "id": "4e62b601",
   "metadata": {},
   "outputs": [
    {
     "data": {
      "text/plain": [
       "0       False\n",
       "1       False\n",
       "2       False\n",
       "3       False\n",
       "4       False\n",
       "        ...  \n",
       "1790    False\n",
       "1791    False\n",
       "1792    False\n",
       "1793    False\n",
       "1794    False\n",
       "Length: 1795, dtype: bool"
      ]
     },
     "execution_count": 6,
     "metadata": {},
     "output_type": "execute_result"
    }
   ],
   "source": [
    "## Checked for duplicates\n",
    "df.duplicated()"
   ]
  },
  {
   "cell_type": "code",
   "execution_count": 7,
   "id": "0bf4c8e6",
   "metadata": {},
   "outputs": [],
   "source": [
    "## Delete unnecessary columns\n",
    "df = df.drop(columns=['Unnamed: 0', 'Company Name', 'Bar Name', 'REF', 'Review Date', 'Company Location', 'Bean Type', 'Bean Origin'])"
   ]
  },
  {
   "cell_type": "code",
   "execution_count": 8,
   "id": "64b08ea5",
   "metadata": {},
   "outputs": [
    {
     "data": {
      "text/html": [
       "<div>\n",
       "<style scoped>\n",
       "    .dataframe tbody tr th:only-of-type {\n",
       "        vertical-align: middle;\n",
       "    }\n",
       "\n",
       "    .dataframe tbody tr th {\n",
       "        vertical-align: top;\n",
       "    }\n",
       "\n",
       "    .dataframe thead th {\n",
       "        text-align: right;\n",
       "    }\n",
       "</style>\n",
       "<table border=\"1\" class=\"dataframe\">\n",
       "  <thead>\n",
       "    <tr style=\"text-align: right;\">\n",
       "      <th></th>\n",
       "      <th>Cacao Percent</th>\n",
       "      <th>Rating</th>\n",
       "    </tr>\n",
       "  </thead>\n",
       "  <tbody>\n",
       "    <tr>\n",
       "      <th>0</th>\n",
       "      <td>0.63</td>\n",
       "      <td>3.75</td>\n",
       "    </tr>\n",
       "    <tr>\n",
       "      <th>1</th>\n",
       "      <td>0.70</td>\n",
       "      <td>2.75</td>\n",
       "    </tr>\n",
       "    <tr>\n",
       "      <th>2</th>\n",
       "      <td>0.70</td>\n",
       "      <td>3.00</td>\n",
       "    </tr>\n",
       "    <tr>\n",
       "      <th>3</th>\n",
       "      <td>0.70</td>\n",
       "      <td>3.50</td>\n",
       "    </tr>\n",
       "    <tr>\n",
       "      <th>4</th>\n",
       "      <td>0.70</td>\n",
       "      <td>3.50</td>\n",
       "    </tr>\n",
       "    <tr>\n",
       "      <th>...</th>\n",
       "      <td>...</td>\n",
       "      <td>...</td>\n",
       "    </tr>\n",
       "    <tr>\n",
       "      <th>1790</th>\n",
       "      <td>0.70</td>\n",
       "      <td>3.75</td>\n",
       "    </tr>\n",
       "    <tr>\n",
       "      <th>1791</th>\n",
       "      <td>0.65</td>\n",
       "      <td>3.00</td>\n",
       "    </tr>\n",
       "    <tr>\n",
       "      <th>1792</th>\n",
       "      <td>0.65</td>\n",
       "      <td>3.50</td>\n",
       "    </tr>\n",
       "    <tr>\n",
       "      <th>1793</th>\n",
       "      <td>0.62</td>\n",
       "      <td>3.25</td>\n",
       "    </tr>\n",
       "    <tr>\n",
       "      <th>1794</th>\n",
       "      <td>0.65</td>\n",
       "      <td>3.00</td>\n",
       "    </tr>\n",
       "  </tbody>\n",
       "</table>\n",
       "<p>1795 rows × 2 columns</p>\n",
       "</div>"
      ],
      "text/plain": [
       "      Cacao Percent  Rating\n",
       "0              0.63    3.75\n",
       "1              0.70    2.75\n",
       "2              0.70    3.00\n",
       "3              0.70    3.50\n",
       "4              0.70    3.50\n",
       "...             ...     ...\n",
       "1790           0.70    3.75\n",
       "1791           0.65    3.00\n",
       "1792           0.65    3.50\n",
       "1793           0.62    3.25\n",
       "1794           0.65    3.00\n",
       "\n",
       "[1795 rows x 2 columns]"
      ]
     },
     "execution_count": 8,
     "metadata": {},
     "output_type": "execute_result"
    }
   ],
   "source": [
    "df"
   ]
  },
  {
   "cell_type": "code",
   "execution_count": 9,
   "id": "749e1d61",
   "metadata": {},
   "outputs": [],
   "source": [
    "# Create a subset which contains only the 'Rating' and indicators\n",
    "\n",
    "sub = df[['Rating', 'Cacao Percent']]"
   ]
  },
  {
   "cell_type": "markdown",
   "id": "dbb0c96d",
   "metadata": {},
   "source": [
    "# 3 Elbow Technique"
   ]
  },
  {
   "cell_type": "code",
   "execution_count": 10,
   "id": "69e96990",
   "metadata": {},
   "outputs": [],
   "source": [
    "# Define the range of potential clusters in the data\n",
    "num_cl = range(1, 10)\n",
    "\n",
    "# Defines k-means clusters in the range assigned above\n",
    "kmeans = [KMeans(n_clusters=i) for i in num_cl]"
   ]
  },
  {
   "cell_type": "code",
   "execution_count": 11,
   "id": "8956ef9e",
   "metadata": {},
   "outputs": [
    {
     "name": "stderr",
     "output_type": "stream",
     "text": [
      "C:\\Users\\turne\\anaconda3\\Lib\\site-packages\\sklearn\\cluster\\_kmeans.py:1412: FutureWarning: The default value of `n_init` will change from 10 to 'auto' in 1.4. Set the value of `n_init` explicitly to suppress the warning\n",
      "  super()._check_params_vs_input(X, default_n_init=10)\n",
      "C:\\Users\\turne\\anaconda3\\Lib\\site-packages\\sklearn\\cluster\\_kmeans.py:1412: FutureWarning: The default value of `n_init` will change from 10 to 'auto' in 1.4. Set the value of `n_init` explicitly to suppress the warning\n",
      "  super()._check_params_vs_input(X, default_n_init=10)\n",
      "C:\\Users\\turne\\anaconda3\\Lib\\site-packages\\sklearn\\cluster\\_kmeans.py:1412: FutureWarning: The default value of `n_init` will change from 10 to 'auto' in 1.4. Set the value of `n_init` explicitly to suppress the warning\n",
      "  super()._check_params_vs_input(X, default_n_init=10)\n",
      "C:\\Users\\turne\\anaconda3\\Lib\\site-packages\\sklearn\\cluster\\_kmeans.py:1412: FutureWarning: The default value of `n_init` will change from 10 to 'auto' in 1.4. Set the value of `n_init` explicitly to suppress the warning\n",
      "  super()._check_params_vs_input(X, default_n_init=10)\n",
      "C:\\Users\\turne\\anaconda3\\Lib\\site-packages\\sklearn\\cluster\\_kmeans.py:1412: FutureWarning: The default value of `n_init` will change from 10 to 'auto' in 1.4. Set the value of `n_init` explicitly to suppress the warning\n",
      "  super()._check_params_vs_input(X, default_n_init=10)\n",
      "C:\\Users\\turne\\anaconda3\\Lib\\site-packages\\sklearn\\cluster\\_kmeans.py:1412: FutureWarning: The default value of `n_init` will change from 10 to 'auto' in 1.4. Set the value of `n_init` explicitly to suppress the warning\n",
      "  super()._check_params_vs_input(X, default_n_init=10)\n",
      "C:\\Users\\turne\\anaconda3\\Lib\\site-packages\\sklearn\\cluster\\_kmeans.py:1412: FutureWarning: The default value of `n_init` will change from 10 to 'auto' in 1.4. Set the value of `n_init` explicitly to suppress the warning\n",
      "  super()._check_params_vs_input(X, default_n_init=10)\n",
      "C:\\Users\\turne\\anaconda3\\Lib\\site-packages\\sklearn\\cluster\\_kmeans.py:1412: FutureWarning: The default value of `n_init` will change from 10 to 'auto' in 1.4. Set the value of `n_init` explicitly to suppress the warning\n",
      "  super()._check_params_vs_input(X, default_n_init=10)\n",
      "C:\\Users\\turne\\anaconda3\\Lib\\site-packages\\sklearn\\cluster\\_kmeans.py:1412: FutureWarning: The default value of `n_init` will change from 10 to 'auto' in 1.4. Set the value of `n_init` explicitly to suppress the warning\n",
      "  super()._check_params_vs_input(X, default_n_init=10)\n"
     ]
    },
    {
     "data": {
      "text/plain": [
       "[-417.17978696378873,\n",
       " -148.96464087222128,\n",
       " -87.796617241442,\n",
       " -55.74011440256311,\n",
       " -36.06754565865161,\n",
       " -26.037948001643326,\n",
       " -19.279561999626964,\n",
       " -14.341148541869682,\n",
       " -10.410590190671948]"
      ]
     },
     "execution_count": 11,
     "metadata": {},
     "output_type": "execute_result"
    }
   ],
   "source": [
    "# Create a score that represents a rate of variation for the given cluster option\n",
    "score = [kmeans[i].fit(sub).score(sub) for i in range(len(kmeans))]\n",
    "\n",
    "score"
   ]
  },
  {
   "cell_type": "code",
   "execution_count": 12,
   "id": "36dec514",
   "metadata": {},
   "outputs": [
    {
     "data": {
      "image/png": "[encoded data removed]",
      "text/plain": [
       "<Figure size 640x480 with 1 Axes>"
      ]
     },
     "metadata": {},
     "output_type": "display_data"
    }
   ],
   "source": [
    "# Plot the elbow curve\n",
    "\n",
    "pl.plot(num_cl,score)\n",
    "pl.xlabel('Number of Clusters')\n",
    "pl.ylabel('Score')\n",
    "pl.title('Elbow Curve')\n",
    "pl.show()"
   ]
  },
  {
   "cell_type": "markdown",
   "id": "87590fd7",
   "metadata": {},
   "source": [
    "## The elbow (the breaking point of the curve) is where the curve begins to flatten. In this case, we can see that it jumps from one to two and then again to 3 on the X-axis and continues to slowly increases slightly after five. I believe the optimal number of clusters is five.  I'll test this theory to determine if five clusters are too much or adequate. "
   ]
  },
  {
   "cell_type": "markdown",
   "id": "3ea719c0",
   "metadata": {},
   "source": [
    "# 4 k-means Algorithm"
   ]
  },
  {
   "cell_type": "code",
   "execution_count": 14,
   "id": "fe492890",
   "metadata": {},
   "outputs": [],
   "source": [
    "# Create the k-means object with 5 clusters\n",
    "\n",
    "kmeans = KMeans(n_clusters = 5)"
   ]
  },
  {
   "cell_type": "code",
   "execution_count": 15,
   "id": "979fd638",
   "metadata": {},
   "outputs": [
    {
     "name": "stderr",
     "output_type": "stream",
     "text": [
      "C:\\Users\\turne\\anaconda3\\Lib\\site-packages\\sklearn\\cluster\\_kmeans.py:1412: FutureWarning: The default value of `n_init` will change from 10 to 'auto' in 1.4. Set the value of `n_init` explicitly to suppress the warning\n",
      "  super()._check_params_vs_input(X, default_n_init=10)\n"
     ]
    },
    {
     "data": {
      "text/html": [
       "<style>#sk-container-id-1 {color: black;}#sk-container-id-1 pre{padding: 0;}#sk-container-id-1 div.sk-toggleable {background-color: white;}#sk-container-id-1 label.sk-toggleable__label {cursor: pointer;display: block;width: 100%;margin-bottom: 0;padding: 0.3em;box-sizing: border-box;text-align: center;}#sk-container-id-1 label.sk-toggleable__label-arrow:before {content: \"▸\";float: left;margin-right: 0.25em;color: #696969;}#sk-container-id-1 label.sk-toggleable__label-arrow:hover:before {color: black;}#sk-container-id-1 div.sk-estimator:hover label.sk-toggleable__label-arrow:before {color: black;}#sk-container-id-1 div.sk-toggleable__content {max-height: 0;max-width: 0;overflow: hidden;text-align: left;background-color: #f0f8ff;}#sk-container-id-1 div.sk-toggleable__content pre {margin: 0.2em;color: black;border-radius: 0.25em;background-color: #f0f8ff;}#sk-container-id-1 input.sk-toggleable__control:checked~div.sk-toggleable__content {max-height: 200px;max-width: 100%;overflow: auto;}#sk-container-id-1 input.sk-toggleable__control:checked~label.sk-toggleable__label-arrow:before {content: \"▾\";}#sk-container-id-1 div.sk-estimator input.sk-toggleable__control:checked~label.sk-toggleable__label {background-color: #d4ebff;}#sk-container-id-1 div.sk-label input.sk-toggleable__control:checked~label.sk-toggleable__label {background-color: #d4ebff;}#sk-container-id-1 input.sk-hidden--visually {border: 0;clip: rect(1px 1px 1px 1px);clip: rect(1px, 1px, 1px, 1px);height: 1px;margin: -1px;overflow: hidden;padding: 0;position: absolute;width: 1px;}#sk-container-id-1 div.sk-estimator {font-family: monospace;background-color: #f0f8ff;border: 1px dotted black;border-radius: 0.25em;box-sizing: border-box;margin-bottom: 0.5em;}#sk-container-id-1 div.sk-estimator:hover {background-color: #d4ebff;}#sk-container-id-1 div.sk-parallel-item::after {content: \"\";width: 100%;border-bottom: 1px solid gray;flex-grow: 1;}#sk-container-id-1 div.sk-label:hover label.sk-toggleable__label {background-color: #d4ebff;}#sk-container-id-1 div.sk-serial::before {content: \"\";position: absolute;border-left: 1px solid gray;box-sizing: border-box;top: 0;bottom: 0;left: 50%;z-index: 0;}#sk-container-id-1 div.sk-serial {display: flex;flex-direction: column;align-items: center;background-color: white;padding-right: 0.2em;padding-left: 0.2em;position: relative;}#sk-container-id-1 div.sk-item {position: relative;z-index: 1;}#sk-container-id-1 div.sk-parallel {display: flex;align-items: stretch;justify-content: center;background-color: white;position: relative;}#sk-container-id-1 div.sk-item::before, #sk-container-id-1 div.sk-parallel-item::before {content: \"\";position: absolute;border-left: 1px solid gray;box-sizing: border-box;top: 0;bottom: 0;left: 50%;z-index: -1;}#sk-container-id-1 div.sk-parallel-item {display: flex;flex-direction: column;z-index: 1;position: relative;background-color: white;}#sk-container-id-1 div.sk-parallel-item:first-child::after {align-self: flex-end;width: 50%;}#sk-container-id-1 div.sk-parallel-item:last-child::after {align-self: flex-start;width: 50%;}#sk-container-id-1 div.sk-parallel-item:only-child::after {width: 0;}#sk-container-id-1 div.sk-dashed-wrapped {border: 1px dashed gray;margin: 0 0.4em 0.5em 0.4em;box-sizing: border-box;padding-bottom: 0.4em;background-color: white;}#sk-container-id-1 div.sk-label label {font-family: monospace;font-weight: bold;display: inline-block;line-height: 1.2em;}#sk-container-id-1 div.sk-label-container {text-align: center;}#sk-container-id-1 div.sk-container {/* jupyter's `normalize.less` sets `[hidden] { display: none; }` but bootstrap.min.css set `[hidden] { display: none !important; }` so we also need the `!important` here to be able to override the default hidden behavior on the sphinx rendered scikit-learn.org. See: https://github.com/scikit-learn/scikit-learn/issues/21755 */display: inline-block !important;position: relative;}#sk-container-id-1 div.sk-text-repr-fallback {display: none;}</style><div id=\"sk-container-id-1\" class=\"sk-top-container\"><div class=\"sk-text-repr-fallback\"><pre>KMeans(n_clusters=5)</pre><b>In a Jupyter environment, please rerun this cell to show the HTML representation or trust the notebook. <br />On GitHub, the HTML representation is unable to render, please try loading this page with nbviewer.org.</b></div><div class=\"sk-container\" hidden><div class=\"sk-item\"><div class=\"sk-estimator sk-toggleable\"><input class=\"sk-toggleable__control sk-hidden--visually\" id=\"sk-estimator-id-1\" type=\"checkbox\" checked><label for=\"sk-estimator-id-1\" class=\"sk-toggleable__label sk-toggleable__label-arrow\">KMeans</label><div class=\"sk-toggleable__content\"><pre>KMeans(n_clusters=5)</pre></div></div></div></div></div>"
      ],
      "text/plain": [
       "KMeans(n_clusters=5)"
      ]
     },
     "execution_count": 15,
     "metadata": {},
     "output_type": "execute_result"
    }
   ],
   "source": [
    "# Fit the k-means object to the data\n",
    "\n",
    "kmeans.fit(sub)"
   ]
  },
  {
   "cell_type": "code",
   "execution_count": 16,
   "id": "d1e295d5",
   "metadata": {},
   "outputs": [
    {
     "name": "stderr",
     "output_type": "stream",
     "text": [
      "C:\\Users\\turne\\anaconda3\\Lib\\site-packages\\sklearn\\cluster\\_kmeans.py:1412: FutureWarning: The default value of `n_init` will change from 10 to 'auto' in 1.4. Set the value of `n_init` explicitly to suppress the warning\n",
      "  super()._check_params_vs_input(X, default_n_init=10)\n",
      "C:\\Users\\turne\\AppData\\Local\\Temp\\ipykernel_10468\\1587882893.py:3: SettingWithCopyWarning: \n",
      "A value is trying to be set on a copy of a slice from a DataFrame.\n",
      "Try using .loc[row_indexer,col_indexer] = value instead\n",
      "\n",
      "See the caveats in the documentation: https://pandas.pydata.org/pandas-docs/stable/user_guide/indexing.html#returning-a-view-versus-a-copy\n",
      "  sub['clusters'] = kmeans.fit_predict(sub)\n"
     ]
    }
   ],
   "source": [
    "# 5 Perform clustering using the k-means model and assign the results to new 'clusters' column\n",
    "\n",
    "sub['clusters'] = kmeans.fit_predict(sub)"
   ]
  },
  {
   "cell_type": "code",
   "execution_count": 17,
   "id": "5b0e9246",
   "metadata": {},
   "outputs": [
    {
     "data": {
      "text/html": [
       "<div>\n",
       "<style scoped>\n",
       "    .dataframe tbody tr th:only-of-type {\n",
       "        vertical-align: middle;\n",
       "    }\n",
       "\n",
       "    .dataframe tbody tr th {\n",
       "        vertical-align: top;\n",
       "    }\n",
       "\n",
       "    .dataframe thead th {\n",
       "        text-align: right;\n",
       "    }\n",
       "</style>\n",
       "<table border=\"1\" class=\"dataframe\">\n",
       "  <thead>\n",
       "    <tr style=\"text-align: right;\">\n",
       "      <th></th>\n",
       "      <th>Rating</th>\n",
       "      <th>Cacao Percent</th>\n",
       "      <th>clusters</th>\n",
       "    </tr>\n",
       "  </thead>\n",
       "  <tbody>\n",
       "    <tr>\n",
       "      <th>0</th>\n",
       "      <td>3.75</td>\n",
       "      <td>0.63</td>\n",
       "      <td>1</td>\n",
       "    </tr>\n",
       "    <tr>\n",
       "      <th>1</th>\n",
       "      <td>2.75</td>\n",
       "      <td>0.70</td>\n",
       "      <td>2</td>\n",
       "    </tr>\n",
       "    <tr>\n",
       "      <th>2</th>\n",
       "      <td>3.00</td>\n",
       "      <td>0.70</td>\n",
       "      <td>0</td>\n",
       "    </tr>\n",
       "    <tr>\n",
       "      <th>3</th>\n",
       "      <td>3.50</td>\n",
       "      <td>0.70</td>\n",
       "      <td>4</td>\n",
       "    </tr>\n",
       "    <tr>\n",
       "      <th>4</th>\n",
       "      <td>3.50</td>\n",
       "      <td>0.70</td>\n",
       "      <td>4</td>\n",
       "    </tr>\n",
       "  </tbody>\n",
       "</table>\n",
       "</div>"
      ],
      "text/plain": [
       "   Rating  Cacao Percent  clusters\n",
       "0    3.75           0.63         1\n",
       "1    2.75           0.70         2\n",
       "2    3.00           0.70         0\n",
       "3    3.50           0.70         4\n",
       "4    3.50           0.70         4"
      ]
     },
     "execution_count": 17,
     "metadata": {},
     "output_type": "execute_result"
    }
   ],
   "source": [
    "sub.head()"
   ]
  },
  {
   "cell_type": "code",
   "execution_count": 18,
   "id": "7e592c71",
   "metadata": {},
   "outputs": [
    {
     "data": {
      "text/plain": [
       "clusters\n",
       "0    644\n",
       "4    392\n",
       "2    386\n",
       "1    310\n",
       "3     63\n",
       "Name: count, dtype: int64"
      ]
     },
     "execution_count": 18,
     "metadata": {},
     "output_type": "execute_result"
    }
   ],
   "source": [
    "# Check the frequency of each unique value in the 'clusters' column\n",
    "\n",
    "sub['clusters'].value_counts()"
   ]
  },
  {
   "cell_type": "markdown",
   "id": "48db592f",
   "metadata": {},
   "source": [
    "## Scatterplots"
   ]
  },
  {
   "cell_type": "code",
   "execution_count": 20,
   "id": "4f9088cb",
   "metadata": {},
   "outputs": [
    {
     "data": {
      "image/png": "[encoded data removed]",
      "text/plain": [
       "<Figure size 1000x600 with 1 Axes>"
      ]
     },
     "metadata": {},
     "output_type": "display_data"
    }
   ],
   "source": [
    "# Plot the clusters for the \"Rating\" and \"Cacao Percent\" variables\n",
    "\n",
    "plt.figure(figsize = (10,6))\n",
    "ax = sns.scatterplot(x = sub['Cacao Percent'], y = sub['Rating'], hue = kmeans.labels_, s = 100)\n",
    "\n",
    "ax.grid(False)\n",
    "plt.xlabel('Cacao %')\n",
    "plt.ylabel('Rating')\n",
    "plt.show()"
   ]
  },
  {
   "cell_type": "markdown",
   "id": "3579729f",
   "metadata": {},
   "source": [
    "## Evaluation and Insights - The dark purple cluster (cluster #4) represents one of the most common ratings for Cacao Percentages: a 3 out of 5.  In fact, cluster #0 was the biggest with 644 counts within the 3-3.75 Rating.  Cluster #3 indicates the lowest count of low ratings on chocolate, (63 counts out of 1,795).  \n",
    "\n",
    "## I like this visualization to indicate the clusters of ratings based on the total count of ratings, along the range of Cacao Percent. Cluster #2 shows the highest Ratings which are also favored in the ideal Cacao Percent, from 60% to 83%.  In my opinion, as someone who loves dark chocolate, this is the range of cacao percent I look for in a chocolate bar.  The rating is NOT just based on the Cacao Percent, but is also rated on flavor, ingredients, the heating process (whether the chocolate melts easily on the tongue, rather than quickly on the fingers) and additional factors that are not covered in this dataset. "
   ]
  },
  {
   "cell_type": "markdown",
   "id": "eb9de100",
   "metadata": {},
   "source": [
    "# 5 Descriptive Statistics"
   ]
  },
  {
   "cell_type": "code",
   "execution_count": 22,
   "id": "b23b2c85",
   "metadata": {},
   "outputs": [],
   "source": [
    "sub.loc[sub['clusters'] == 4, 'cluster'] = 'dark'\n",
    "sub.loc[sub['clusters'] == 3, 'cluster'] = 'medium'\n",
    "sub.loc[sub['clusters'] == 2, 'cluster'] = 'purple'\n",
    "sub.loc[sub['clusters'] == 1, 'cluster'] = 'pink'\n",
    "sub.loc[sub['clusters'] == 0, 'cluster'] = 'faded pink'"
   ]
  },
  {
   "cell_type": "code",
   "execution_count": 26,
   "id": "df55d036",
   "metadata": {},
   "outputs": [
    {
     "data": {
      "text/html": [
       "<div>\n",
       "<style scoped>\n",
       "    .dataframe tbody tr th:only-of-type {\n",
       "        vertical-align: middle;\n",
       "    }\n",
       "\n",
       "    .dataframe tbody tr th {\n",
       "        vertical-align: top;\n",
       "    }\n",
       "\n",
       "    .dataframe thead tr th {\n",
       "        text-align: left;\n",
       "    }\n",
       "\n",
       "    .dataframe thead tr:last-of-type th {\n",
       "        text-align: right;\n",
       "    }\n",
       "</style>\n",
       "<table border=\"1\" class=\"dataframe\">\n",
       "  <thead>\n",
       "    <tr>\n",
       "      <th></th>\n",
       "      <th colspan=\"2\" halign=\"left\">Cacao Percent</th>\n",
       "      <th colspan=\"2\" halign=\"left\">Rating</th>\n",
       "    </tr>\n",
       "    <tr>\n",
       "      <th></th>\n",
       "      <th>mean</th>\n",
       "      <th>median</th>\n",
       "      <th>mean</th>\n",
       "      <th>median</th>\n",
       "    </tr>\n",
       "    <tr>\n",
       "      <th>cluster</th>\n",
       "      <th></th>\n",
       "      <th></th>\n",
       "      <th></th>\n",
       "      <th></th>\n",
       "    </tr>\n",
       "  </thead>\n",
       "  <tbody>\n",
       "    <tr>\n",
       "      <th>dark</th>\n",
       "      <td>0.711607</td>\n",
       "      <td>0.70</td>\n",
       "      <td>3.500000</td>\n",
       "      <td>3.50</td>\n",
       "    </tr>\n",
       "    <tr>\n",
       "      <th>faded pink</th>\n",
       "      <td>0.716056</td>\n",
       "      <td>0.70</td>\n",
       "      <td>3.117624</td>\n",
       "      <td>3.00</td>\n",
       "    </tr>\n",
       "    <tr>\n",
       "      <th>medium</th>\n",
       "      <td>0.781111</td>\n",
       "      <td>0.75</td>\n",
       "      <td>1.900794</td>\n",
       "      <td>2.00</td>\n",
       "    </tr>\n",
       "    <tr>\n",
       "      <th>pink</th>\n",
       "      <td>0.708323</td>\n",
       "      <td>0.70</td>\n",
       "      <td>3.837097</td>\n",
       "      <td>3.75</td>\n",
       "    </tr>\n",
       "    <tr>\n",
       "      <th>purple</th>\n",
       "      <td>0.720570</td>\n",
       "      <td>0.71</td>\n",
       "      <td>2.667746</td>\n",
       "      <td>2.75</td>\n",
       "    </tr>\n",
       "  </tbody>\n",
       "</table>\n",
       "</div>"
      ],
      "text/plain": [
       "           Cacao Percent           Rating       \n",
       "                    mean median      mean median\n",
       "cluster                                         \n",
       "dark            0.711607   0.70  3.500000   3.50\n",
       "faded pink      0.716056   0.70  3.117624   3.00\n",
       "medium          0.781111   0.75  1.900794   2.00\n",
       "pink            0.708323   0.70  3.837097   3.75\n",
       "purple          0.720570   0.71  2.667746   2.75"
      ]
     },
     "execution_count": 26,
     "metadata": {},
     "output_type": "execute_result"
    }
   ],
   "source": [
    "sub.groupby('cluster').agg({'Cacao Percent':['mean', 'median'],\n",
    "'Rating':['mean', 'median'],\n",
    "'Cacao Percent':['mean', 'median']})"
   ]
  },
  {
   "cell_type": "markdown",
   "id": "21cb6ddb",
   "metadata": {},
   "source": [
    "## Based on these statistics, the dark cluster is the most consistent with Cacao Percent and Ratings mean and median.  The median for all the other clusters Ratings have a difference of a tenth between the mean and median.  That's not great consistency.  Faded pink and medium had the worst consistency and the most fluctuation making them quite diverse. "
   ]
  },
  {
   "cell_type": "markdown",
   "id": "32d06d7a",
   "metadata": {},
   "source": [
    "# What could these results be useful for?"
   ]
  },
  {
   "cell_type": "markdown",
   "id": "615d161b",
   "metadata": {},
   "source": [
    "## Again the inconsistency and diversity between the Cacao Percent and Ratings are not definitive.  There are other factors to analyze, thus further investigations.  However, the dark cluster has the best consistency, so that could lead to common results:  If chocolate bars have 70% Cacao, then they are likely to be rated at a 3.5.  That chocolate bar is considered the elite, or ideal chocolate bar.  \n",
    "\n",
    "## On the flip side, if the pink cluster is to indicate that Cacao Percent is also 70%, then the Rating could be equally at 3.5 if not up to 3.8 Rating.  It allows possibility, but is not based on confidence.  \n",
    "\n",
    "## Lastly, the medium cluster indicates a possibility of 75-78% Cacao, and a Rating between 1.9 and 2, which is relatively close in numbers, but these figures tell me that the higher the Cacao Percent, the lower the Ratings.  If this is indeed true, I would expect Chocolatiers to either avoid making chocolate bars with 75% or higher Cacao, or create a variable that would increase the chances of a higher rating. "
   ]
  },
  {
   "cell_type": "code",
   "execution_count": 27,
   "id": "65d1b473",
   "metadata": {},
   "outputs": [],
   "source": [
    "# Export the dataframe to csv file\n",
    "sub.to_csv(os.path.join(path, 'Clean Data','clusters.csv'))"
   ]
  },
  {
   "cell_type": "code",
   "execution_count": null,
   "id": "4ce8d130",
   "metadata": {},
   "outputs": [],
   "source": []
  }
 ],
 "metadata": {
  "kernelspec": {
   "display_name": "Python 3 (ipykernel)",
   "language": "python",
   "name": "python3"
  },
  "language_info": {
   "codemirror_mode": {
    "name": "ipython",
    "version": 3
   },
   "file_extension": ".py",
   "mimetype": "text/x-python",
   "name": "python",
   "nbconvert_exporter": "python",
   "pygments_lexer": "ipython3",
   "version": "3.11.5"
  }
 },
 "nbformat": 4,
 "nbformat_minor": 5
}
